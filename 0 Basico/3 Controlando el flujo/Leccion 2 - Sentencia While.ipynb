{
 "cells": [
  {
   "cell_type": "code",
   "execution_count": 3,
   "metadata": {},
   "outputs": [
    {
     "name": "stdout",
     "output_type": "stream",
     "text": [
      "c vale 1\n",
      "c vale 2\n",
      "c vale 3\n",
      "c vale 4\n",
      "c vale 5\n",
      "c vale 6\n"
     ]
    }
   ],
   "source": [
    "c = 0\n",
    "while c <= 5:\n",
    "    c+=1\n",
    "    print(\"c vale\", c)"
   ]
  },
  {
   "cell_type": "code",
   "execution_count": 4,
   "metadata": {},
   "outputs": [
    {
     "name": "stdout",
     "output_type": "stream",
     "text": [
      "c vale 1\n",
      "c vale 2\n",
      "c vale 3\n",
      "c vale 4\n",
      "c vale 5\n",
      "c vale 6\n",
      "se ha completado toda la iteracion y c vale 6\n"
     ]
    }
   ],
   "source": [
    "# para ejecutar codigo luego de q el while termine o de false usa else\n",
    "c = 0\n",
    "while c <= 5:\n",
    "    c+=1\n",
    "    print(\"c vale\", c)\n",
    "else:\n",
    "    print(\"se ha completado toda la iteracion y c vale\", c)"
   ]
  },
  {
   "cell_type": "code",
   "execution_count": 5,
   "metadata": {},
   "outputs": [
    {
     "name": "stdout",
     "output_type": "stream",
     "text": [
      "c vale 1\n",
      "Rompemos el bucle cuando c valga 2\n"
     ]
    }
   ],
   "source": [
    "# para salir de bucles, usar break; (este tampoco ejecuta el else)\n",
    "c = 0\n",
    "while c <= 5:\n",
    "    c+=1\n",
    "    if(c == 2):\n",
    "        print(\"Rompemos el bucle cuando c valga\", c)\n",
    "        break\n",
    "    print(\"c vale\", c)\n",
    "else:\n",
    "    print(\"se ha completado toda la iteracion y c vale\", c)"
   ]
  },
  {
   "cell_type": "code",
   "execution_count": 7,
   "metadata": {},
   "outputs": [
    {
     "name": "stdout",
     "output_type": "stream",
     "text": [
      "c vale 1\n",
      "Continuamos con la sugiente iteracion 2\n",
      "c vale 3\n",
      "c vale 4\n",
      "c vale 5\n",
      "c vale 6\n",
      "se ha completado toda la iteracion y c vale 6\n"
     ]
    }
   ],
   "source": [
    "# Continue, para saltar valores\n",
    "c = 0\n",
    "while c <= 5:\n",
    "    c+=1\n",
    "    if(c == 2):\n",
    "        print(\"Continuamos con la sugiente iteracion\", c)\n",
    "        continue\n",
    "    print(\"c vale\", c)\n",
    "else:\n",
    "    print(\"se ha completado toda la iteracion y c vale\", c)"
   ]
  },
  {
   "cell_type": "code",
   "execution_count": 8,
   "metadata": {},
   "outputs": [
    {
     "name": "stdout",
     "output_type": "stream",
     "text": [
      "Bienvenido al menú interactivo\n",
      "¿Que quieres hacer? Escribe una opción\n",
      "    1) Saludar\n",
      "    2) Sumar dos números\n",
      "    3) Salir\n",
      "1\n",
      "Hola espero que estes bien\n",
      "¿Que quieres hacer? Escribe una opción\n",
      "    1) Saludar\n",
      "    2) Sumar dos números\n",
      "    3) Salir\n",
      "2\n",
      "Introduce el primer número10\n",
      "Introduce el segundo número5\n",
      "El resultado de la suma es:  15.0\n",
      "¿Que quieres hacer? Escribe una opción\n",
      "    1) Saludar\n",
      "    2) Sumar dos números\n",
      "    3) Salir\n",
      "fdg\n",
      "Comando desconocido, vuelve a intentarlo\n",
      "¿Que quieres hacer? Escribe una opción\n",
      "    1) Saludar\n",
      "    2) Sumar dos números\n",
      "    3) Salir\n",
      "3\n",
      "Hasta luego\n"
     ]
    }
   ],
   "source": [
    "print(\"Bienvenido al menú interactivo\")\n",
    "while(True):\n",
    "    print(\"\"\"¿Que quieres hacer? Escribe una opción\n",
    "    1) Saludar\n",
    "    2) Sumar dos números\n",
    "    3) Salir\"\"\")\n",
    "    opcion = input()\n",
    "    if opcion == '1':\n",
    "        print(\"Hola espero que estes bien\")\n",
    "    elif opcion == '2':\n",
    "        n1 = float(input(\"Introduce el primer número\"))\n",
    "        n2 = float(input(\"Introduce el segundo número\"))\n",
    "        print(\"El resultado de la suma es: \", n1+n2)\n",
    "    elif opcion == '3':\n",
    "        print(\"Hasta luego\")\n",
    "        break\n",
    "    else:\n",
    "        print(\"Comando desconocido, vuelve a intentarlo\")"
   ]
  },
  {
   "cell_type": "code",
   "execution_count": null,
   "metadata": {},
   "outputs": [],
   "source": []
  }
 ],
 "metadata": {
  "kernelspec": {
   "display_name": "Python 3",
   "language": "python",
   "name": "python3"
  },
  "language_info": {
   "codemirror_mode": {
    "name": "ipython",
    "version": 3
   },
   "file_extension": ".py",
   "mimetype": "text/x-python",
   "name": "python",
   "nbconvert_exporter": "python",
   "pygments_lexer": "ipython3",
   "version": "3.7.3"
  }
 },
 "nbformat": 4,
 "nbformat_minor": 1
}
