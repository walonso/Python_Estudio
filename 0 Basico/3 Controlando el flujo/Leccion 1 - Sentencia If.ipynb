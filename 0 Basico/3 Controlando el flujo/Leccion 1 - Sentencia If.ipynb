{
 "cells": [
  {
   "cell_type": "code",
   "execution_count": 2,
   "metadata": {},
   "outputs": [
    {
     "name": "stdout",
     "output_type": "stream",
     "text": [
      "Se cumple la condición\n",
      "Se muestra este otro\n"
     ]
    }
   ],
   "source": [
    " if True:\n",
    "        print(\"Se cumple la condición\")\n",
    "        print(\"Se muestra este otro\")"
   ]
  },
  {
   "cell_type": "code",
   "execution_count": 3,
   "metadata": {},
   "outputs": [
    {
     "name": "stdout",
     "output_type": "stream",
     "text": [
      "a vale 5\n"
     ]
    }
   ],
   "source": [
    "a=5\n",
    "if a == 2:\n",
    "    print(\"a vale 2\")\n",
    "if a == 5:\n",
    "    print(\"a vale 5\")"
   ]
  },
  {
   "cell_type": "code",
   "execution_count": 4,
   "metadata": {},
   "outputs": [
    {
     "name": "stdout",
     "output_type": "stream",
     "text": [
      "a vale 5\n",
      "b vale 10\n"
     ]
    }
   ],
   "source": [
    "a = 5\n",
    "b = 10\n",
    "if a == 5:\n",
    "    print(\"a vale\",a)\n",
    "    if b == 10:\n",
    "        print(\"b vale\",b)"
   ]
  },
  {
   "cell_type": "code",
   "execution_count": 5,
   "metadata": {},
   "outputs": [
    {
     "name": "stdout",
     "output_type": "stream",
     "text": [
      "a vale 5 y b vale 10\n"
     ]
    }
   ],
   "source": [
    "if a == 5 and b == 10:\n",
    "    print(\"a vale 5 y b vale 10\")"
   ]
  },
  {
   "cell_type": "code",
   "execution_count": 6,
   "metadata": {},
   "outputs": [
    {
     "name": "stdout",
     "output_type": "stream",
     "text": [
      "10 es un numero par\n"
     ]
    }
   ],
   "source": [
    "n = 10\n",
    "if n % 2 == 0:\n",
    "    print(n, \"es un numero par\")\n",
    "else:\n",
    "    print(n,\"es un número impar\")"
   ]
  },
  {
   "cell_type": "code",
   "execution_count": 8,
   "metadata": {},
   "outputs": [
    {
     "name": "stdout",
     "output_type": "stream",
     "text": [
      "Saliendo...\n"
     ]
    }
   ],
   "source": [
    "# elif\n",
    "comando = \"SALIR\"\n",
    "if comando == \"ENTRAR\":\n",
    "    print(\"Bienvenido\")\n",
    "elif comando == \"SALUDAR\":\n",
    "    print(\"Hola, espero que estes bien\")\n",
    "elif comando == \"SALIR\":\n",
    "    print(\"Saliendo...\")\n",
    "else:\n",
    "    print(\"Este comando no se reconoce\")"
   ]
  },
  {
   "cell_type": "code",
   "execution_count": 9,
   "metadata": {},
   "outputs": [
    {
     "name": "stdout",
     "output_type": "stream",
     "text": [
      "Introduce una nota5\n",
      "Suficiente\n"
     ]
    }
   ],
   "source": [
    "nota = float(input(\"Introduce una nota\"))\n",
    "if nota >= 9:\n",
    "    print(\"Sobresaliente\")\n",
    "elif nota >= 7:\n",
    "    print(\"Notable\")\n",
    "elif nota >= 6:\n",
    "    print(\"Bien\")\n",
    "elif nota >= 5:\n",
    "    print(\"Suficiente\")\n",
    "else:\n",
    "    print(\"Insuficiente\")\n"
   ]
  },
  {
   "cell_type": "code",
   "execution_count": 10,
   "metadata": {},
   "outputs": [],
   "source": [
    "#Pass para que lo salte (sirve para hacer esqueletos de estructuras)\n",
    "if True:\n",
    "    pass"
   ]
  }
 ],
 "metadata": {
  "kernelspec": {
   "display_name": "Python 3",
   "language": "python",
   "name": "python3"
  },
  "language_info": {
   "codemirror_mode": {
    "name": "ipython",
    "version": 3
   },
   "file_extension": ".py",
   "mimetype": "text/x-python",
   "name": "python",
   "nbconvert_exporter": "python",
   "pygments_lexer": "ipython3",
   "version": "3.7.3"
  }
 },
 "nbformat": 4,
 "nbformat_minor": 1
}
