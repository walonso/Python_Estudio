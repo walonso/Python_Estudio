{
 "cells": [
  {
   "cell_type": "code",
   "execution_count": 1,
   "metadata": {},
   "outputs": [],
   "source": [
    "class Galleta:\n",
    "    pass\n",
    "\n",
    "una_galleta = Galleta()"
   ]
  },
  {
   "cell_type": "code",
   "execution_count": 2,
   "metadata": {},
   "outputs": [],
   "source": [
    "#Le creamos atributos a la clase \n",
    "una_galleta.sabor = \"Salado\"\n",
    "una_galleta.color=\"Marrón\""
   ]
  },
  {
   "cell_type": "code",
   "execution_count": 3,
   "metadata": {},
   "outputs": [
    {
     "name": "stdout",
     "output_type": "stream",
     "text": [
      "El sabor de esta galleta es Salado\n"
     ]
    }
   ],
   "source": [
    "print(\"El sabor de esta galleta es\", una_galleta.sabor)"
   ]
  },
  {
   "cell_type": "code",
   "execution_count": 4,
   "metadata": {},
   "outputs": [
    {
     "data": {
      "text/plain": [
       "False"
      ]
     },
     "execution_count": 4,
     "metadata": {},
     "output_type": "execute_result"
    }
   ],
   "source": [
    "# colocando variables internas\n",
    "class Galleta:\n",
    "    chocolate = False\n",
    "\n",
    "g = Galleta()\n",
    "g.chocolate"
   ]
  },
  {
   "cell_type": "code",
   "execution_count": 5,
   "metadata": {},
   "outputs": [
    {
     "data": {
      "text/plain": [
       "True"
      ]
     },
     "execution_count": 5,
     "metadata": {},
     "output_type": "execute_result"
    }
   ],
   "source": [
    "g.chocolate = True\n",
    "g.chocolate"
   ]
  },
  {
   "cell_type": "code",
   "execution_count": 10,
   "metadata": {},
   "outputs": [
    {
     "name": "stdout",
     "output_type": "stream",
     "text": [
      "Se acaba de crear una galleta\n",
      "Soy una galleta sin chocolate :-C\n",
      "Soy una galleta chocolateada :-D\n"
     ]
    }
   ],
   "source": [
    "# para crear metodo init , se define asi:def __init__(self), es el q se llama cuando se instancia.\n",
    "# ste es un metodo especial, por las barras bajas\n",
    "# self lo tienen todos los metodos (especial o no) , es el objeto como tal.\n",
    "class Galleta():\n",
    "    chocolate = False\n",
    "    def __init__(self):\n",
    "        print(\"Se acaba de crear una galleta\")\n",
    "        \n",
    "    def chocolatear(self):\n",
    "        #chocolate = True\n",
    "        self.chocolate = True # asi si se modifica directamente la propiedad del objeto\n",
    "        \n",
    "    def tiene_chocolate(self):\n",
    "        if(self.chocolate):\n",
    "            print(\"Soy una galleta chocolateada :-D\")\n",
    "        else:\n",
    "            print(\"Soy una galleta sin chocolate :-C\")\n",
    "            \n",
    "g = Galleta()\n",
    "g.tiene_chocolate()\n",
    "g.chocolatear()\n",
    "g.tiene_chocolate()"
   ]
  },
  {
   "cell_type": "code",
   "execution_count": 14,
   "metadata": {},
   "outputs": [],
   "source": [
    "class Galleta():\n",
    "    chocolate = False\n",
    "    def __init__(self, sabor, forma):\n",
    "        self.sabor = sabor\n",
    "        self.forma = forma\n",
    "        print(\"Se acaba de crear una galleta {} {}\".format(sabor, forma))\n",
    "        \n",
    "    def chocolatear(self):\n",
    "        #chocolate = True\n",
    "        self.chocolate = True # asi si se modifica directamente la propiedad del objeto\n",
    "        \n",
    "    def tiene_chocolate(self):\n",
    "        if(self.chocolate):\n",
    "            print(\"Soy una galleta chocolateada :-D\")\n",
    "        else:\n",
    "            print(\"Soy una galleta sin chocolate :-C\")"
   ]
  },
  {
   "cell_type": "code",
   "execution_count": 17,
   "metadata": {},
   "outputs": [
    {
     "name": "stdout",
     "output_type": "stream",
     "text": [
      "Se acaba de crear una galleta Salada cuadrada\n"
     ]
    }
   ],
   "source": [
    "g = Galleta(\"Salada\", \"cuadrada\")"
   ]
  },
  {
   "cell_type": "code",
   "execution_count": 18,
   "metadata": {},
   "outputs": [
    {
     "ename": "TypeError",
     "evalue": "__init__() missing 2 required positional arguments: 'sabor' and 'forma'",
     "output_type": "error",
     "traceback": [
      "\u001b[1;31m---------------------------------------------------------------------------\u001b[0m",
      "\u001b[1;31mTypeError\u001b[0m                                 Traceback (most recent call last)",
      "\u001b[1;32m<ipython-input-18-0640b1f8f55e>\u001b[0m in \u001b[0;36m<module>\u001b[1;34m()\u001b[0m\n\u001b[0;32m      1\u001b[0m \u001b[1;31m# si no le envio parametros arrojara errores\u001b[0m\u001b[1;33m\u001b[0m\u001b[1;33m\u001b[0m\u001b[0m\n\u001b[1;32m----> 2\u001b[1;33m \u001b[0mg\u001b[0m \u001b[1;33m=\u001b[0m \u001b[0mGalleta\u001b[0m\u001b[1;33m(\u001b[0m\u001b[1;33m)\u001b[0m\u001b[1;33m\u001b[0m\u001b[0m\n\u001b[0m",
      "\u001b[1;31mTypeError\u001b[0m: __init__() missing 2 required positional arguments: 'sabor' and 'forma'"
     ]
    }
   ],
   "source": [
    "# si no le envio parametros arrojara errores\n",
    "g = Galleta()"
   ]
  },
  {
   "cell_type": "code",
   "execution_count": 19,
   "metadata": {},
   "outputs": [],
   "source": [
    "class Galleta():\n",
    "    chocolate = False\n",
    "    def __init__(self, sabor=None, forma=None):\n",
    "        self.sabor = sabor\n",
    "        self.forma = forma\n",
    "        if sabor is not None and forma is not None:\n",
    "            print(\"Se acaba de crear una galleta {} {}\".format(sabor, forma))\n",
    "        \n",
    "    def chocolatear(self):\n",
    "        #chocolate = True\n",
    "        self.chocolate = True # asi si se modifica directamente la propiedad del objeto\n",
    "        \n",
    "    def tiene_chocolate(self):\n",
    "        if(self.chocolate):\n",
    "            print(\"Soy una galleta chocolateada :-D\")\n",
    "        else:\n",
    "            print(\"Soy una galleta sin chocolate :-C\")"
   ]
  },
  {
   "cell_type": "code",
   "execution_count": 21,
   "metadata": {},
   "outputs": [
    {
     "name": "stdout",
     "output_type": "stream",
     "text": [
      "Se acaba de crear una galleta Salada Cuadrada\n"
     ]
    }
   ],
   "source": [
    "g = Galleta(\"Salada\", \"Cuadrada\")"
   ]
  },
  {
   "cell_type": "code",
   "execution_count": 22,
   "metadata": {},
   "outputs": [
    {
     "name": "stdout",
     "output_type": "stream",
     "text": [
      "Se acaba de crear una galleta None None\n"
     ]
    }
   ],
   "source": [
    "g = Galleta()"
   ]
  }
 ],
 "metadata": {
  "kernelspec": {
   "display_name": "Python 3",
   "language": "python",
   "name": "python3"
  },
  "language_info": {
   "codemirror_mode": {
    "name": "ipython",
    "version": 3
   },
   "file_extension": ".py",
   "mimetype": "text/x-python",
   "name": "python",
   "nbconvert_exporter": "python",
   "pygments_lexer": "ipython3",
   "version": "3.6.4"
  }
 },
 "nbformat": 4,
 "nbformat_minor": 1
}
