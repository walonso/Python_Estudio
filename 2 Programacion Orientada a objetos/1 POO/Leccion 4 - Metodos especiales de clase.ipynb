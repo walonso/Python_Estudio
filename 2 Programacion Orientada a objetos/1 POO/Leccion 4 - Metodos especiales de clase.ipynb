{
 "cells": [
  {
   "cell_type": "code",
   "execution_count": 2,
   "metadata": {},
   "outputs": [
    {
     "name": "stdout",
     "output_type": "stream",
     "text": [
      "Se a creado la pelicula El padrino\n",
      "Se está borrando la pelicula El padrino\n"
     ]
    }
   ],
   "source": [
    "# el constructor (__init__)\n",
    "class Pelicula:\n",
    "    # Constructor de clase\n",
    "    def __init__(self, titulo, duracion, lanzamiento):\n",
    "        self.titulo = titulo\n",
    "        self.duracion = duracion\n",
    "        self.lanzamiento = lanzamiento\n",
    "        print(\"Se a creado la pelicula\", self.titulo)\n",
    "        \n",
    "    # destructor de clase: se ejecuta cuando se termina el programa\n",
    "    def __del__(self):\n",
    "        print(\"Se está borrando la pelicula\", self.titulo)\n",
    "        \n",
    "p = Pelicula(\"El padrino\",175,1972)\n",
    "del(p)"
   ]
  },
  {
   "cell_type": "code",
   "execution_count": null,
   "metadata": {},
   "outputs": [],
   "source": [
    "# si lo de arriba lo ejecuto en un script en el prompt, inmediatamente saldra el borado \n",
    "# __del__, aun cuando no se coloque el del(p) y eso es porque el script ejecuta e inmediatamente \n",
    "# termina el programa"
   ]
  },
  {
   "cell_type": "code",
   "execution_count": 4,
   "metadata": {},
   "outputs": [
    {
     "name": "stdout",
     "output_type": "stream",
     "text": [
      "Se a creado la pelicula El padrino\n"
     ]
    },
    {
     "data": {
      "text/plain": [
       "<__main__.Pelicula at 0x201447800f0>"
      ]
     },
     "execution_count": 4,
     "metadata": {},
     "output_type": "execute_result"
    }
   ],
   "source": [
    "# llamamos p\n",
    "p = Pelicula(\"El padrino\",175,1972)\n",
    "p\n"
   ]
  },
  {
   "cell_type": "code",
   "execution_count": 5,
   "metadata": {},
   "outputs": [
    {
     "data": {
      "text/plain": [
       "'10'"
      ]
     },
     "execution_count": 5,
     "metadata": {},
     "output_type": "execute_result"
    }
   ],
   "source": [
    "str(10)"
   ]
  },
  {
   "cell_type": "code",
   "execution_count": 6,
   "metadata": {},
   "outputs": [
    {
     "data": {
      "text/plain": [
       "'<__main__.Pelicula object at 0x00000201447800F0>'"
      ]
     },
     "execution_count": 6,
     "metadata": {},
     "output_type": "execute_result"
    }
   ],
   "source": [
    "# muestra la referencia a la direccion en memoria\n",
    "str(p)"
   ]
  },
  {
   "cell_type": "code",
   "execution_count": 8,
   "metadata": {},
   "outputs": [
    {
     "name": "stdout",
     "output_type": "stream",
     "text": [
      "Se a creado la pelicula El padrino\n"
     ]
    }
   ],
   "source": [
    "# le definimos su metodo especial __str__\n",
    "class Pelicula:\n",
    "    # Constructor de clase\n",
    "    def __init__(self, titulo, duracion, lanzamiento):\n",
    "        self.titulo = titulo\n",
    "        self.duracion = duracion\n",
    "        self.lanzamiento = lanzamiento\n",
    "        print(\"Se a creado la pelicula\", self.titulo)\n",
    "        \n",
    "    # destructor de clase: se ejecuta cuando se termina el programa\n",
    "    def __del__(self):\n",
    "        print(\"Se está borrando la pelicula\", self.titulo)\n",
    "            \n",
    "    # redefinimos el metodo string\n",
    "    def __str__(self):\n",
    "        return \"{} lanzada en {} con una duracion de {} minutos\".format(self.titulo, self.lanzamiento, self.duracion)\n",
    "    \n",
    "p = Pelicula(\"El padrino\",175,1972)\n",
    "#del(p)"
   ]
  },
  {
   "cell_type": "code",
   "execution_count": 9,
   "metadata": {},
   "outputs": [
    {
     "data": {
      "text/plain": [
       "'El padrino lanzada en 1972 con una duracion de 175 minutos'"
      ]
     },
     "execution_count": 9,
     "metadata": {},
     "output_type": "execute_result"
    }
   ],
   "source": [
    "# llamando al metodo str\n",
    "str(p)"
   ]
  },
  {
   "cell_type": "code",
   "execution_count": 10,
   "metadata": {},
   "outputs": [
    {
     "ename": "TypeError",
     "evalue": "object of type 'Pelicula' has no len()",
     "output_type": "error",
     "traceback": [
      "\u001b[1;31m---------------------------------------------------------------------------\u001b[0m",
      "\u001b[1;31mTypeError\u001b[0m                                 Traceback (most recent call last)",
      "\u001b[1;32m<ipython-input-10-3d9d6586c8d9>\u001b[0m in \u001b[0;36m<module>\u001b[1;34m()\u001b[0m\n\u001b[1;32m----> 1\u001b[1;33m \u001b[0mlen\u001b[0m\u001b[1;33m(\u001b[0m\u001b[0mp\u001b[0m\u001b[1;33m)\u001b[0m\u001b[1;33m\u001b[0m\u001b[0m\n\u001b[0m",
      "\u001b[1;31mTypeError\u001b[0m: object of type 'Pelicula' has no len()"
     ]
    }
   ],
   "source": [
    "# si llamamos len, no existe\n",
    "len(p)"
   ]
  },
  {
   "cell_type": "code",
   "execution_count": 11,
   "metadata": {},
   "outputs": [
    {
     "name": "stdout",
     "output_type": "stream",
     "text": [
      "Se a creado la pelicula El padrino\n",
      "Se está borrando la pelicula El padrino\n"
     ]
    },
    {
     "data": {
      "text/plain": [
       "175"
      ]
     },
     "execution_count": 11,
     "metadata": {},
     "output_type": "execute_result"
    }
   ],
   "source": [
    "# creamos o redefinimos el metodo len para la clase (la duracion de una pelicula)\n",
    "# le definimos su metodo especial __len__\n",
    "class Pelicula:\n",
    "    # Constructor de clase\n",
    "    def __init__(self, titulo, duracion, lanzamiento):\n",
    "        self.titulo = titulo\n",
    "        self.duracion = duracion\n",
    "        self.lanzamiento = lanzamiento\n",
    "        print(\"Se a creado la pelicula\", self.titulo)\n",
    "        \n",
    "    # destructor de clase: se ejecuta cuando se termina el programa\n",
    "    def __del__(self):\n",
    "        print(\"Se está borrando la pelicula\", self.titulo)\n",
    "            \n",
    "    # redefinimos el metodo string\n",
    "    def __str__(self):\n",
    "        return \"{} lanzada en {} con una duracion de {} minutos\".format(self.titulo, self.lanzamiento, self.duracion)\n",
    "    \n",
    "    #redefinimos el metodo lenght\n",
    "    def __len__(self):\n",
    "        return self.duracion\n",
    "    \n",
    "p = Pelicula(\"El padrino\",175,1972)\n",
    "len(p)"
   ]
  },
  {
   "cell_type": "code",
   "execution_count": null,
   "metadata": {},
   "outputs": [],
   "source": []
  }
 ],
 "metadata": {
  "kernelspec": {
   "display_name": "Python 3",
   "language": "python",
   "name": "python3"
  },
  "language_info": {
   "codemirror_mode": {
    "name": "ipython",
    "version": 3
   },
   "file_extension": ".py",
   "mimetype": "text/x-python",
   "name": "python",
   "nbconvert_exporter": "python",
   "pygments_lexer": "ipython3",
   "version": "3.6.4"
  }
 },
 "nbformat": 4,
 "nbformat_minor": 1
}
