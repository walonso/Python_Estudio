{
 "cells": [
  {
   "cell_type": "code",
   "execution_count": 2,
   "metadata": {},
   "outputs": [],
   "source": [
    "# productos _: adorno, \n",
    "class Producto:\n",
    "    def __init__(self,referencia,tipo,nombre,pvp,descripcion,productor=None,distribuidor=None,isbn=None,autor=None):\n",
    "        self.referencia = referencia\n",
    "        self.tipo = tipo\n",
    "        self.nombre = nombre\n",
    "        self.pvp = pvp\n",
    "        self.descripcion = descripcion\n",
    "        self.productor = productor\n",
    "        self.distribuidor = distribuidor\n",
    "        self.isbn = isbn\n",
    "        self.autor = autor\n",
    "\n",
    "adorno = Producto('000A','ADORNO','Vaso Adorno',15,'Vaso de porcelana con dibujos')\n",
    "\n"
   ]
  },
  {
   "cell_type": "code",
   "execution_count": 4,
   "metadata": {},
   "outputs": [
    {
     "data": {
      "text/plain": [
       "<__main__.Producto at 0x1c1b07a2748>"
      ]
     },
     "execution_count": 4,
     "metadata": {},
     "output_type": "execute_result"
    }
   ],
   "source": [
    "adorno"
   ]
  },
  {
   "cell_type": "code",
   "execution_count": 5,
   "metadata": {},
   "outputs": [
    {
     "data": {
      "text/plain": [
       "'ADORNO'"
      ]
     },
     "execution_count": 5,
     "metadata": {},
     "output_type": "execute_result"
    }
   ],
   "source": [
    "adorno.tipo"
   ]
  },
  {
   "cell_type": "code",
   "execution_count": 10,
   "metadata": {},
   "outputs": [
    {
     "name": "stdout",
     "output_type": "stream",
     "text": [
      "\n",
      "        REFERENCIA\t2034\n",
      "        NOMBRE\tVaso adornado\n",
      "        PVP\t15\n",
      "        DESCRIPCION\tVaso de porcelana adornado con arboles\n"
     ]
    }
   ],
   "source": [
    "# Producto es super clase, adorno, linro, alimento son las subclases.\n",
    "# se envian al constriuctor la super clase.\n",
    "class Producto:\n",
    "    def __init__(self,referencia,nombre,pvp,descripcion):\n",
    "        self.referencia = referencia\n",
    "        self.nombre = nombre\n",
    "        self.pvp = pvp\n",
    "        self.descripcion = descripcion\n",
    "    \n",
    "    def __str__(self):\n",
    "        return \"\"\"\n",
    "        REFERENCIA\\t{}\n",
    "        NOMBRE\\t{}\n",
    "        PVP\\t{}\n",
    "        DESCRIPCION\\t{}\"\"\".format(self.referencia,self.nombre,self.pvp,self.descripcion)\n",
    "\n",
    "class Adorno(Producto):\n",
    "    pass\n",
    "\n",
    "a = Adorno(2034, \"Vaso adornado\",15,\"Vaso de porcelana adornado con arboles\")\n",
    "print(a)"
   ]
  },
  {
   "cell_type": "code",
   "execution_count": 9,
   "metadata": {},
   "outputs": [
    {
     "name": "stdout",
     "output_type": "stream",
     "text": [
      "\n",
      "        REFERENCIA\t2035\n",
      "        NOMBRE\tBotella de Aceite de Oliva Extra\n",
      "        PVP\t5\n",
      "        DESCRIPCION\t250 ML\n",
      "        PRODUCTOR\tLa Aceitadora\n",
      "        DISTRIBUIDOR\tDistribuciones SA\n"
     ]
    }
   ],
   "source": [
    "class Alimento(Producto):\n",
    "    productor = \"\"\n",
    "    distribuidor = \"\"\n",
    "    \n",
    "    def __str__(self):\n",
    "        return \"\"\"\n",
    "        REFERENCIA\\t{}\n",
    "        NOMBRE\\t{}\n",
    "        PVP\\t{}\n",
    "        DESCRIPCION\\t{}\n",
    "        PRODUCTOR\\t{}\n",
    "        DISTRIBUIDOR\\t{}\"\"\".format(self.referencia,self.nombre,self.pvp,self.descripcion, self.productor,self.distribuidor)\n",
    "\n",
    "    \n",
    "al = Alimento(2035, \"Botella de Aceite de Oliva Extra\",5,\"250 ML\")\n",
    "al.productor = \"La Aceitadora\"\n",
    "al.distribuidor = \"Distribuciones SA\"\n",
    "print(al)"
   ]
  },
  {
   "cell_type": "code",
   "execution_count": null,
   "metadata": {},
   "outputs": [],
   "source": [
    "class Libro(Producto):\n",
    "    isbn = \"\"\n",
    "    autor = \"\"\n",
    "    \n",
    "    def __str__(self):\n",
    "        return \"\"\"\n",
    "        REFERENCIA\\t{}\n",
    "        NOMBRE\\t{}\n",
    "        PVP\\t{}\n",
    "        DESCRIPCION\\t{}\n",
    "        ISBN\\t{}\n",
    "        AUTOR\\t{}\"\"\".format(self.referencia,self.nombre,self.pvp,self.descripcion, self.isbn,self.autor)\n",
    "    \n",
    "    li = Libro(2036, \"Cocina Mediterranea\",9,\"Recetas sanas y buenas\")\n",
    "    li.isbn = \"0-123456-78-9\"\n",
    "    li.autor = \"Doña Juana\"\n",
    "    \n",
    "    print(li)\n",
    "\n",
    "    "
   ]
  }
 ],
 "metadata": {
  "kernelspec": {
   "display_name": "Python 3",
   "language": "python",
   "name": "python3"
  },
  "language_info": {
   "codemirror_mode": {
    "name": "ipython",
    "version": 3
   },
   "file_extension": ".py",
   "mimetype": "text/x-python",
   "name": "python",
   "nbconvert_exporter": "python",
   "pygments_lexer": "ipython3",
   "version": "3.6.4"
  }
 },
 "nbformat": 4,
 "nbformat_minor": 1
}
