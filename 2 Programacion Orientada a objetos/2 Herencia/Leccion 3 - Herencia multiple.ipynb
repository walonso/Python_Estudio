{
 "cells": [
  {
   "cell_type": "code",
   "execution_count": 3,
   "metadata": {},
   "outputs": [
    {
     "name": "stdout",
     "output_type": "stream",
     "text": [
      "Soy de clase A\n"
     ]
    }
   ],
   "source": [
    "# posibilidad de q una subclase herede de varias superclases\n",
    "# si varias superclases tienen metodos, atributos iguales, tiene prioridad la que este mas a la izquierda.\n",
    "\n",
    "class A:\n",
    "    def __init__(self):\n",
    "        print(\"Soy de clase A\")\n",
    "    def a(self):\n",
    "        print(\"Este metodo lo heredo de A\")\n",
    "        \n",
    "class B:\n",
    "    def __init__(self):\n",
    "        print(\"soy de clase B\")\n",
    "    def b(self):\n",
    "        print(\"Este metodo lo heredo de B\")\n",
    "        \n",
    "# en este caso se observa que A es mas a la izq, cuando creamos C, dice q inicializa por A\n",
    "class C(A,B):\n",
    "    def c(self):\n",
    "        print(\"Este metodo es unico de c\")\n",
    "    \n",
    "c = C()"
   ]
  },
  {
   "cell_type": "code",
   "execution_count": 4,
   "metadata": {},
   "outputs": [
    {
     "name": "stdout",
     "output_type": "stream",
     "text": [
      "Este metodo lo heredo de A\n"
     ]
    }
   ],
   "source": [
    "# llamamos a:\n",
    "c.a()"
   ]
  },
  {
   "cell_type": "code",
   "execution_count": 5,
   "metadata": {},
   "outputs": [
    {
     "name": "stdout",
     "output_type": "stream",
     "text": [
      "Este metodo lo heredo de B\n"
     ]
    }
   ],
   "source": [
    "# llama el m,etodo en B\n",
    "c.b()"
   ]
  },
  {
   "cell_type": "code",
   "execution_count": 6,
   "metadata": {},
   "outputs": [
    {
     "name": "stdout",
     "output_type": "stream",
     "text": [
      "Este metodo es unico de c\n"
     ]
    }
   ],
   "source": [
    "# llama su metodo unico en c\n",
    "c.c()"
   ]
  }
 ],
 "metadata": {
  "kernelspec": {
   "display_name": "Python 3",
   "language": "python",
   "name": "python3"
  },
  "language_info": {
   "codemirror_mode": {
    "name": "ipython",
    "version": 3
   },
   "file_extension": ".py",
   "mimetype": "text/x-python",
   "name": "python",
   "nbconvert_exporter": "python",
   "pygments_lexer": "ipython3",
   "version": "3.6.4"
  }
 },
 "nbformat": 4,
 "nbformat_minor": 1
}
