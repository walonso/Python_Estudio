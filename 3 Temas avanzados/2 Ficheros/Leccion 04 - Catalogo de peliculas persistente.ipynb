{
 "cells": [
  {
   "cell_type": "code",
   "execution_count": 29,
   "metadata": {},
   "outputs": [],
   "source": [
    "from io import open\n",
    "import pickle\n",
    "\n",
    "class Pelicula:\n",
    "    \n",
    "    # Constructor de clase\n",
    "    def __init__(self, titulo, duracion, lanzamiento):\n",
    "        self.titulo = titulo\n",
    "        self.duracion = duracion\n",
    "        self.lanzamiento = lanzamiento\n",
    "        print('Se ha creado la película:',self.titulo)\n",
    "        \n",
    "    def __str__(self):\n",
    "        return '{} ({})'.format(self.titulo, self.lanzamiento)\n",
    "\n",
    "\n",
    "class Catalogo:\n",
    "    \n",
    "    peliculas = []\n",
    "    \n",
    "    # Constructor de clase\n",
    "    def __init__(self):\n",
    "        # metodo para cargar peliculas de un fichero\n",
    "        self.cargar()\n",
    "        \n",
    "    def agregar(self,p):\n",
    "        self.peliculas.append(p)\n",
    "        self.guardar()\n",
    "        \n",
    "    def mostrar(self):\n",
    "        if len(self.peliculas) == 0:\n",
    "            print('El catalogo esta vacio')\n",
    "            return\n",
    "        \n",
    "        for p in self.peliculas:\n",
    "            print(p)\n",
    "            \n",
    "    def cargar(self):\n",
    "        # append binario con lectura.\n",
    "        fichero = open('catalogo.pckl', 'ab+')\n",
    "        fichero.seek(0)\n",
    "        try:\n",
    "            self.peliculas = pickle.load(fichero)\n",
    "        except:\n",
    "            print('El fichero esta vacio')\n",
    "        finally:\n",
    "            fichero.close()\n",
    "            del(fichero)\n",
    "            print('Se han cargado {} peliculas'.format(len(self.peliculas)))\n",
    "    \n",
    "    def guardar(self):\n",
    "        fichero = open('catalogo.pckl','wb')\n",
    "        pickle.dump(self.peliculas, fichero)\n",
    "        fichero.close()\n",
    "        del(fichero)\n",
    "    \n",
    "    # destructor de clase\n",
    "    def __del__(self):\n",
    "        self.guardar()  # guardado automatico\n",
    "        print('Se ha guardado el fichero')"
   ]
  },
  {
   "cell_type": "code",
   "execution_count": 30,
   "metadata": {},
   "outputs": [
    {
     "name": "stdout",
     "output_type": "stream",
     "text": [
      "El fichero esta vacio\n",
      "Se han cargado 0 peliculas\n",
      "Se ha guardado el fichero\n"
     ]
    }
   ],
   "source": [
    "c = Catalogo()"
   ]
  },
  {
   "cell_type": "code",
   "execution_count": 31,
   "metadata": {},
   "outputs": [
    {
     "name": "stdout",
     "output_type": "stream",
     "text": [
      "El catalogo esta vacio\n"
     ]
    }
   ],
   "source": [
    "c.mostrar()"
   ]
  },
  {
   "cell_type": "code",
   "execution_count": 32,
   "metadata": {},
   "outputs": [
    {
     "name": "stdout",
     "output_type": "stream",
     "text": [
      "Se ha creado la película: El padrino\n"
     ]
    }
   ],
   "source": [
    "c.agregar(Pelicula(\"El padrino\",175,1927))"
   ]
  },
  {
   "cell_type": "code",
   "execution_count": 33,
   "metadata": {},
   "outputs": [
    {
     "name": "stdout",
     "output_type": "stream",
     "text": [
      "Se ha creado la película: El padrino 2\n"
     ]
    }
   ],
   "source": [
    "c.agregar(Pelicula(\"El padrino 2\",202,1974))"
   ]
  },
  {
   "cell_type": "code",
   "execution_count": 34,
   "metadata": {},
   "outputs": [
    {
     "name": "stdout",
     "output_type": "stream",
     "text": [
      "El padrino (1927)\n",
      "El padrino 2 (1974)\n"
     ]
    }
   ],
   "source": [
    "c.mostrar()"
   ]
  },
  {
   "cell_type": "code",
   "execution_count": 35,
   "metadata": {},
   "outputs": [
    {
     "name": "stdout",
     "output_type": "stream",
     "text": [
      "Se ha guardado el fichero\n"
     ]
    }
   ],
   "source": [
    "del(c)"
   ]
  },
  {
   "cell_type": "code",
   "execution_count": 36,
   "metadata": {},
   "outputs": [
    {
     "name": "stdout",
     "output_type": "stream",
     "text": [
      "Se han cargado 2 peliculas\n"
     ]
    }
   ],
   "source": [
    "c = Catalogo()"
   ]
  },
  {
   "cell_type": "code",
   "execution_count": 38,
   "metadata": {},
   "outputs": [
    {
     "name": "stdout",
     "output_type": "stream",
     "text": [
      "El padrino (1927)\n",
      "El padrino 2 (1974)\n"
     ]
    }
   ],
   "source": [
    "c.mostrar()"
   ]
  },
  {
   "cell_type": "code",
   "execution_count": 39,
   "metadata": {},
   "outputs": [
    {
     "name": "stdout",
     "output_type": "stream",
     "text": [
      "Se ha guardado el fichero\n"
     ]
    }
   ],
   "source": [
    "del(c)"
   ]
  }
 ],
 "metadata": {
  "kernelspec": {
   "display_name": "Python 3",
   "language": "python",
   "name": "python3"
  },
  "language_info": {
   "codemirror_mode": {
    "name": "ipython",
    "version": 3
   },
   "file_extension": ".py",
   "mimetype": "text/x-python",
   "name": "python",
   "nbconvert_exporter": "python",
   "pygments_lexer": "ipython3",
   "version": "3.6.4"
  }
 },
 "nbformat": 4,
 "nbformat_minor": 1
}
