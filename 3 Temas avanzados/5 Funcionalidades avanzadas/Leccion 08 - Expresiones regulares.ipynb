{
 "cells": [
  {
   "cell_type": "markdown",
   "metadata": {},
   "source": [
    "# Expresiones regulares"
   ]
  },
  {
   "cell_type": "code",
   "execution_count": 1,
   "metadata": {},
   "outputs": [
    {
     "data": {
      "text/plain": [
       "<_sre.SRE_Match object; span=(40, 46), match='mágica'>"
      ]
     },
     "execution_count": 1,
     "metadata": {},
     "output_type": "execute_result"
    }
   ],
   "source": [
    "import re\n",
    "\n",
    "# si existe devielve algo\n",
    "texto = \"En esta cadena se encuentra una palabra mágica\"\n",
    "re.search('mágica', texto)"
   ]
  },
  {
   "cell_type": "code",
   "execution_count": 2,
   "metadata": {},
   "outputs": [],
   "source": [
    "# si no existe, devuelve nada\n",
    "re.search('Hola', texto)"
   ]
  },
  {
   "cell_type": "code",
   "execution_count": 5,
   "metadata": {},
   "outputs": [],
   "source": [
    "palabra=\"mágica\"\n",
    "\n",
    "encontrado = re.search(palabra, texto)"
   ]
  },
  {
   "cell_type": "code",
   "execution_count": 4,
   "metadata": {},
   "outputs": [
    {
     "name": "stdout",
     "output_type": "stream",
     "text": [
      "Se encontro\n"
     ]
    }
   ],
   "source": [
    "if encontrado is not None:\n",
    "    print(\"Se encontro\")\n",
    "else:\n",
    "    print(\"No se encontro\")"
   ]
  },
  {
   "cell_type": "code",
   "execution_count": 7,
   "metadata": {},
   "outputs": [
    {
     "data": {
      "text/plain": [
       "40"
      ]
     },
     "execution_count": 7,
     "metadata": {},
     "output_type": "execute_result"
    }
   ],
   "source": [
    "# en esta posicion encuentra la coincidencia\n",
    "encontrado.start()"
   ]
  },
  {
   "cell_type": "code",
   "execution_count": 8,
   "metadata": {},
   "outputs": [
    {
     "data": {
      "text/plain": [
       "46"
      ]
     },
     "execution_count": 8,
     "metadata": {},
     "output_type": "execute_result"
    }
   ],
   "source": [
    "# aca acaba\n",
    "encontrado.end()"
   ]
  },
  {
   "cell_type": "code",
   "execution_count": 9,
   "metadata": {},
   "outputs": [
    {
     "data": {
      "text/plain": [
       "(40, 46)"
      ]
     },
     "execution_count": 9,
     "metadata": {},
     "output_type": "execute_result"
    }
   ],
   "source": [
    "#en una tupla, donde comienza y termina\n",
    "encontrado.span()"
   ]
  },
  {
   "cell_type": "code",
   "execution_count": 10,
   "metadata": {},
   "outputs": [
    {
     "data": {
      "text/plain": [
       "'En esta cadena se encuentra una palabra mágica'"
      ]
     },
     "execution_count": 10,
     "metadata": {},
     "output_type": "execute_result"
    }
   ],
   "source": [
    "# la palabra q a buscado\n",
    "encontrado.string"
   ]
  },
  {
   "cell_type": "code",
   "execution_count": 11,
   "metadata": {},
   "outputs": [
    {
     "data": {
      "text/plain": [
       "<_sre.SRE_Match object; span=(0, 4), match='Hola'>"
      ]
     },
     "execution_count": 11,
     "metadata": {},
     "output_type": "execute_result"
    }
   ],
   "source": [
    "#### match: sirve para buscar un patron al principio de la cadena\n",
    "texto = \"Hola mundo\"\n",
    "re.match(\"Hola\", texto)"
   ]
  },
  {
   "cell_type": "code",
   "execution_count": 12,
   "metadata": {},
   "outputs": [],
   "source": [
    "# no devuelve nada\n",
    "re.match(\"Mola\", texto)"
   ]
  },
  {
   "cell_type": "code",
   "execution_count": 13,
   "metadata": {},
   "outputs": [
    {
     "data": {
      "text/plain": [
       "['Vamos', 'a', 'dividir', 'esta', 'cadena']"
      ]
     },
     "execution_count": 13,
     "metadata": {},
     "output_type": "execute_result"
    }
   ],
   "source": [
    "### split: dividir una cadena a partir de un patron\n",
    "texto = \"Vamos a dividir esta cadena\"\n",
    "re.split(' ',texto)"
   ]
  },
  {
   "cell_type": "code",
   "execution_count": 14,
   "metadata": {},
   "outputs": [
    {
     "data": {
      "text/plain": [
       "'Hola amiga'"
      ]
     },
     "execution_count": 14,
     "metadata": {},
     "output_type": "execute_result"
    }
   ],
   "source": [
    "### sub : sustituye todas las coincidencias en una cadena\n",
    "texto = \"Hola amigo\"\n",
    "re.sub(\"amigo\",\"amiga\", texto)"
   ]
  },
  {
   "cell_type": "code",
   "execution_count": 15,
   "metadata": {},
   "outputs": [
    {
     "data": {
      "text/plain": [
       "['hola', 'hola', 'hola']"
      ]
     },
     "execution_count": 15,
     "metadata": {},
     "output_type": "execute_result"
    }
   ],
   "source": [
    "### findall : busca todas las coincidencias en una cadena\n",
    "texto = \"hola adios hola hola\"\n",
    "re.findall(\"hola\",texto)"
   ]
  },
  {
   "cell_type": "code",
   "execution_count": 16,
   "metadata": {},
   "outputs": [
    {
     "data": {
      "text/plain": [
       "3"
      ]
     },
     "execution_count": 16,
     "metadata": {},
     "output_type": "execute_result"
    }
   ],
   "source": [
    "len(re.findall(\"hola\",texto))"
   ]
  },
  {
   "cell_type": "code",
   "execution_count": 17,
   "metadata": {},
   "outputs": [
    {
     "data": {
      "text/plain": [
       "4"
      ]
     },
     "execution_count": 17,
     "metadata": {},
     "output_type": "execute_result"
    }
   ],
   "source": [
    "len(re.findall(\"a\",texto))"
   ]
  },
  {
   "cell_type": "code",
   "execution_count": 19,
   "metadata": {},
   "outputs": [
    {
     "data": {
      "text/plain": [
       "['hola', 'hello']"
      ]
     },
     "execution_count": 19,
     "metadata": {},
     "output_type": "execute_result"
    }
   ],
   "source": [
    "texto = \"hola adios hello bye\"\n",
    "re.findall(\"(hola|hello)\",texto)"
   ]
  },
  {
   "cell_type": "code",
   "execution_count": 20,
   "metadata": {},
   "outputs": [
    {
     "data": {
      "text/plain": [
       "['hla']"
      ]
     },
     "execution_count": 20,
     "metadata": {},
     "output_type": "execute_result"
    }
   ],
   "source": [
    "#### Patrones con sintaxis repetidas:\n",
    "texto=\"hla hola hooola hooooola\"\n",
    "re.findall('hla', texto)"
   ]
  },
  {
   "cell_type": "code",
   "execution_count": 21,
   "metadata": {},
   "outputs": [
    {
     "data": {
      "text/plain": [
       "['hola']"
      ]
     },
     "execution_count": 21,
     "metadata": {},
     "output_type": "execute_result"
    }
   ],
   "source": [
    "re.findall('hola', texto)"
   ]
  },
  {
   "cell_type": "code",
   "execution_count": 23,
   "metadata": {},
   "outputs": [
    {
     "name": "stdout",
     "output_type": "stream",
     "text": [
      "['hla']\n",
      "['hola']\n",
      "['hooola']\n"
     ]
    }
   ],
   "source": [
    "# q ejecute varios patrones:\n",
    "def buscar(patrones, texto):\n",
    "    for patron in patrones:\n",
    "        print(re.findall(patron,texto))\n",
    "        \n",
    "patrones=[\n",
    "    'hla', 'hola','hooola'\n",
    "]\n",
    "buscar(patrones,texto)"
   ]
  },
  {
   "cell_type": "code",
   "execution_count": 28,
   "metadata": {},
   "outputs": [
    {
     "name": "stdout",
     "output_type": "stream",
     "text": [
      "['ho', 'ho', 'ho', 'ho']\n",
      "['h', 'ho', 'hoo', 'hooo', 'hooooo']\n",
      "['hla', 'hola', 'hoola', 'hooola', 'hooooola']\n",
      "['hla']\n"
     ]
    }
   ],
   "source": [
    "#### Meta caracter * : q se repita la o, ninguna vez o una sola vez (el asterisco afecta el caracter inmediatamente anterior)\n",
    "# ho* = este o, no este o, o este varias veces\n",
    "# ho*la= este o, no este o, o este varias veces\n",
    "# hu*la= este la u, no este , o este mas de una vez (ojo si en el medio hay otros caracteres como la o, pues no es valida)\n",
    "# (solo la hla cumple este ultimo)\n",
    "texto=\"hla hola hoola hooola hooooola\"\n",
    "patrones = ['ho','ho*','ho*la','hu*la']\n",
    "buscar(patrones, texto)"
   ]
  },
  {
   "cell_type": "code",
   "execution_count": 29,
   "metadata": {},
   "outputs": [
    {
     "name": "stdout",
     "output_type": "stream",
     "text": [
      "['h', 'ho', 'hoo', 'hooo', 'hooooo']\n",
      "['ho', 'hoo', 'hooo', 'hooooo']\n"
     ]
    }
   ],
   "source": [
    "# Meta caracter + : busca 1 o mas veces\n",
    "texto=\"hla hola hoola hooola hooooola\"\n",
    "patrones = ['ho*','ho+']\n",
    "buscar(patrones, texto)"
   ]
  },
  {
   "cell_type": "code",
   "execution_count": 30,
   "metadata": {},
   "outputs": [
    {
     "name": "stdout",
     "output_type": "stream",
     "text": [
      "['h', 'ho', 'hoo', 'hooo', 'hooooo']\n",
      "['ho', 'hoo', 'hooo', 'hooooo']\n",
      "['h', 'ho', 'ho', 'ho', 'ho']\n",
      "['hla', 'hola']\n"
     ]
    }
   ],
   "source": [
    "## Meta caracter ?: una o ninguna repeticion de la letra de la izquierda\n",
    "texto=\"hla hola hoola hooola hooooola\"\n",
    "patrones = ['ho*','ho+','ho?','ho?la']\n",
    "buscar(patrones, texto)\n"
   ]
  },
  {
   "cell_type": "code",
   "execution_count": 33,
   "metadata": {},
   "outputs": [
    {
     "name": "stdout",
     "output_type": "stream",
     "text": [
      "['hla']\n",
      "['hola']\n",
      "['hooola']\n"
     ]
    }
   ],
   "source": [
    "### {n} : numero de repeticiones\n",
    "# 'ho{0}la' = que la o este 0 veces.\n",
    "texto=\"hla hola hoola hooola hooooola\"\n",
    "patrones = ['ho{0}la','ho{1}la','ho{3}la']\n",
    "buscar(patrones, texto)"
   ]
  },
  {
   "cell_type": "code",
   "execution_count": 36,
   "metadata": {},
   "outputs": [
    {
     "name": "stdout",
     "output_type": "stream",
     "text": [
      "['hla', 'hola']\n",
      "['hola', 'hoola']\n",
      "['hoola', 'hooola', 'hooooola']\n"
     ]
    }
   ],
   "source": [
    "#### con rango {n,m}: indica un numero de repeticiones variable entre n y m de la letra a su izquierda\n",
    "texto=\"hla hola hoola hooola hooooola\"\n",
    "patrones = ['ho{0,1}la','ho{1,2}la','ho{2,10}la']\n",
    "buscar(patrones, texto)\n"
   ]
  },
  {
   "cell_type": "code",
   "execution_count": 37,
   "metadata": {},
   "outputs": [
    {
     "name": "stdout",
     "output_type": "stream",
     "text": [
      "['hola', 'hula']\n",
      "['hala', 'hila', 'hola']\n",
      "['hala', 'hela', 'hila', 'hola', 'hula']\n"
     ]
    }
   ],
   "source": [
    "#### patrones de difrentes caracteres []\n",
    "texto=\"hala hela hila hola hula\"\n",
    "patrones = ['h[ou]la','h[aio]la','h[aeiou]la']\n",
    "buscar(patrones, texto)"
   ]
  },
  {
   "cell_type": "code",
   "execution_count": 44,
   "metadata": {},
   "outputs": [
    {
     "name": "stdout",
     "output_type": "stream",
     "text": [
      "[]\n",
      "['haala', 'heeela']\n",
      "['hiiiila', 'hooooola']\n"
     ]
    }
   ],
   "source": [
    "texto=\"haala heeela hiiiila hooooola\"\n",
    "patrones = ['h[ae]la','h[ae]*la','h[io]{3,9}la']\n",
    "buscar(patrones, texto)"
   ]
  },
  {
   "cell_type": "code",
   "execution_count": 46,
   "metadata": {},
   "outputs": [
    {
     "name": "stdout",
     "output_type": "stream",
     "text": [
      "['hola']\n",
      "['hala', 'hela', 'hila', 'hula']\n"
     ]
    }
   ],
   "source": [
    "### Exclusion: ^ (la que este a la derecha buscara para excluirlas)\n",
    "texto=\"hala hela hila hola hula\"\n",
    "patrones = ['h[o]la','h[^o]la']\n",
    "buscar(patrones, texto)\n",
    "\n"
   ]
  },
  {
   "cell_type": "code",
   "execution_count": 51,
   "metadata": {},
   "outputs": [
    {
     "name": "stdout",
     "output_type": "stream",
     "text": [
      "['hola']\n",
      "['h0la']\n",
      "['hola', 'Hola', 'mola', 'sdjh', 'sdZd', 'Ysdj']\n",
      "['Hola', 'M0la', 'U377', 'Ysdj']\n"
     ]
    }
   ],
   "source": [
    "## Rangos \n",
    "# [A-Z]: solo mayus\n",
    "# [a-z]: solo min\n",
    "#[A-Za-z]: min y mayos = [A-z]\n",
    "#[0-9]: solo num\n",
    "#[a-zA-Z0-9]: todos los caracteres, menos los especiales\n",
    "\n",
    "texto = \"hola h0la Hola mola m0la M0la sdjh sdZd U377 Ysdj\"\n",
    "\n",
    "patrones = ['h[a-z]la','h[0-9]la','[A-z]{4}', '[A-Z][A-z0-9]{3}']\n",
    "buscar(patrones, texto)"
   ]
  },
  {
   "cell_type": "code",
   "execution_count": 64,
   "metadata": {},
   "outputs": [
    {
     "name": "stdout",
     "output_type": "stream",
     "text": [
      "['3', '2', '0', '1', '6']\n",
      "['3', '2016']\n",
      "['E', 's', 't', 'e', ' ', 'c', 'u', 'r', 's', 'o', ' ', 'd', 'e', ' ', 'p', 'y', 't', 'h', 'o', 'n', ' ', ' ', 's', 'e', ' ', 'p', 'u', 'b', 'l', 'i', 'c', 'o', ' ', 'e', 'n', ' ', 'e', 'l', ' ', 'a', 'ñ', 'o', ' ']\n",
      "['Este curso de python ', ' se publico en el año ']\n",
      "[' ', ' ', ' ', ' ', ' ', ' ', ' ', ' ', ' ', ' ']\n",
      "['E', 's', 't', 'e', 'c', 'u', 'r', 's', 'o', 'd', 'e', 'p', 'y', 't', 'h', 'o', 'n', '3', 's', 'e', 'p', 'u', 'b', 'l', 'i', 'c', 'o', 'e', 'n', 'e', 'l', 'a', 'ñ', 'o', '2', '0', '1', '6']\n",
      "['Este', 'curso', 'de', 'python', '3', 'se', 'publico', 'en', 'el', 'año', '2016']\n",
      "['E', 's', 't', 'e', 'c', 'u', 'r', 's', 'o', 'd', 'e', 'p', 'y', 't', 'h', 'o', 'n', '3', 's', 'e', 'p', 'u', 'b', 'l', 'i', 'c', 'o', 'e', 'n', 'e', 'l', 'a', 'ñ', 'o', '2', '0', '1', '6']\n",
      "['Este', 'curso', 'de', 'python', '3', 'se', 'publico', 'en', 'el', 'año', '2016']\n",
      "[' ', ' ', ' ', ' ', ' ', ' ', ' ', ' ', ' ', ' ']\n"
     ]
    }
   ],
   "source": [
    "# Caracteres escapados: \\\n",
    "# \\d = numerico\n",
    "# \\D = no numerico\n",
    "# \\s = espacio en blanco\n",
    "# \\S = no espacio en blanco\n",
    "# \\w = alfanumerico\n",
    "# \\W = no alfanumerico\n",
    "\n",
    "## la r q se coloca al principio es de raw, para q python entienda la \\\n",
    "\n",
    "texto = \"Este curso de python 3 se publico en el año 2016\"\n",
    "patrones = [r'\\d',r'\\d+',r'\\D', r'\\D+',r'\\s',r'\\S',r'\\S+',r'\\w',r'\\w+',r'\\W+']\n",
    "buscar(patrones, texto)"
   ]
  }
 ],
 "metadata": {
  "anaconda-cloud": {},
  "kernelspec": {
   "display_name": "Python 3",
   "language": "python",
   "name": "python3"
  },
  "language_info": {
   "codemirror_mode": {
    "name": "ipython",
    "version": 3
   },
   "file_extension": ".py",
   "mimetype": "text/x-python",
   "name": "python",
   "nbconvert_exporter": "python",
   "pygments_lexer": "ipython3",
   "version": "3.6.5"
  }
 },
 "nbformat": 4,
 "nbformat_minor": 1
}
