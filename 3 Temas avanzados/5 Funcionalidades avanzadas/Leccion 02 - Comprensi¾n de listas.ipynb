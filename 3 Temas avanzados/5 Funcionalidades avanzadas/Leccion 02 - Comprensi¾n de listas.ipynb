{
 "cells": [
  {
   "cell_type": "markdown",
   "metadata": {},
   "source": [
    "# Comprensión de listas"
   ]
  },
  {
   "cell_type": "code",
   "execution_count": 1,
   "metadata": {},
   "outputs": [
    {
     "name": "stdout",
     "output_type": "stream",
     "text": [
      "['c', 'a', 's', 'a']\n"
     ]
    }
   ],
   "source": [
    "# metodo tradicional\n",
    "lista = []\n",
    "for letra in 'casa':\n",
    "    lista.append(letra)\n",
    "    \n",
    "print(lista)"
   ]
  },
  {
   "cell_type": "code",
   "execution_count": 2,
   "metadata": {},
   "outputs": [
    {
     "name": "stdout",
     "output_type": "stream",
     "text": [
      "['c', 'a', 's', 'a']\n"
     ]
    }
   ],
   "source": [
    "# Metodo con comprension de listas:\n",
    "lista = [letra for letra in 'casa']\n",
    "print(lista)"
   ]
  },
  {
   "cell_type": "code",
   "execution_count": 3,
   "metadata": {},
   "outputs": [
    {
     "name": "stdout",
     "output_type": "stream",
     "text": [
      "[0, 1, 4, 9, 16, 25, 36, 49, 64, 81, 100]\n"
     ]
    }
   ],
   "source": [
    "# Metodo tradicional\n",
    "lista = []\n",
    "for numero in range(0,11):\n",
    "    lista.append(numero**2)\n",
    "\n",
    "print(lista)\n"
   ]
  },
  {
   "cell_type": "code",
   "execution_count": 4,
   "metadata": {},
   "outputs": [
    {
     "name": "stdout",
     "output_type": "stream",
     "text": [
      "[0, 1, 4, 9, 16, 25, 36, 49, 64, 81, 100]\n"
     ]
    }
   ],
   "source": [
    "# metodo con compresion de listas:\n",
    "lista = [numero**2 for numero in range(0,11)]\n",
    "print(lista)"
   ]
  },
  {
   "cell_type": "code",
   "execution_count": 5,
   "metadata": {},
   "outputs": [
    {
     "name": "stdout",
     "output_type": "stream",
     "text": [
      "[0, 2, 4, 6, 8, 10]\n"
     ]
    }
   ],
   "source": [
    "# metodo tradicional:  multiplos de 10\n",
    "lista = []\n",
    "for numero in range(0,11):\n",
    "    if numero %2 == 0:\n",
    "        lista.append(numero)\n",
    "        \n",
    "print(lista)"
   ]
  },
  {
   "cell_type": "code",
   "execution_count": 6,
   "metadata": {},
   "outputs": [
    {
     "name": "stdout",
     "output_type": "stream",
     "text": [
      "[0, 2, 4, 6, 8, 10]\n"
     ]
    }
   ],
   "source": [
    "# metodo con comprension de listas\n",
    "lista = [numero for numero in range(0,11) if numero % 2 == 0]\n",
    "print(lista)"
   ]
  },
  {
   "cell_type": "code",
   "execution_count": 8,
   "metadata": {},
   "outputs": [
    {
     "name": "stdout",
     "output_type": "stream",
     "text": [
      "[0, 4, 16, 36, 64, 100]\n"
     ]
    }
   ],
   "source": [
    "# metodo tradicional\n",
    "lista = []\n",
    "for numero in range(0,11):\n",
    "    lista.append(numero**2)\n",
    "\n",
    "pares = []\n",
    "for numero in lista:\n",
    "    if numero %2 == 0:\n",
    "        pares.append(numero)\n",
    "        \n",
    "print(pares)"
   ]
  },
  {
   "cell_type": "code",
   "execution_count": 10,
   "metadata": {},
   "outputs": [
    {
     "name": "stdout",
     "output_type": "stream",
     "text": [
      "[0, 4, 16, 36, 64, 100]\n"
     ]
    }
   ],
   "source": [
    "# con compresion de listas\n",
    "pares = [numero for numero in [numero**2 for numero in range(0,11)] if numero % 2 == 0 ]\n",
    "print(pares)"
   ]
  },
  {
   "cell_type": "code",
   "execution_count": null,
   "metadata": {},
   "outputs": [],
   "source": []
  }
 ],
 "metadata": {
  "anaconda-cloud": {},
  "kernelspec": {
   "display_name": "Python 3",
   "language": "python",
   "name": "python3"
  },
  "language_info": {
   "codemirror_mode": {
    "name": "ipython",
    "version": 3
   },
   "file_extension": ".py",
   "mimetype": "text/x-python",
   "name": "python",
   "nbconvert_exporter": "python",
   "pygments_lexer": "ipython3",
   "version": "3.6.5"
  }
 },
 "nbformat": 4,
 "nbformat_minor": 1
}
