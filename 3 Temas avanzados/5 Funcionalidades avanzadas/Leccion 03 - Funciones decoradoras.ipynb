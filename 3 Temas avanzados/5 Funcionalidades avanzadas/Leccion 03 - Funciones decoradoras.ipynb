{
 "cells": [
  {
   "cell_type": "markdown",
   "metadata": {},
   "source": [
    "# Ámbitos y funciones decoradoras"
   ]
  },
  {
   "cell_type": "markdown",
   "metadata": {},
   "source": [
    "#### NOTA: Antes de realizar esta lección debes reiniciar Jupyter Notebook para vaciar la memoria."
   ]
  },
  {
   "cell_type": "code",
   "execution_count": 1,
   "metadata": {},
   "outputs": [],
   "source": [
    "def hola():\n",
    "    def bienvenido():\n",
    "        return \"Hola\"\n",
    "    \n",
    "    return bienvenido"
   ]
  },
  {
   "cell_type": "code",
   "execution_count": 2,
   "metadata": {},
   "outputs": [
    {
     "ename": "NameError",
     "evalue": "name 'bienvenido' is not defined",
     "output_type": "error",
     "traceback": [
      "\u001b[1;31m---------------------------------------------------------------------------\u001b[0m",
      "\u001b[1;31mNameError\u001b[0m                                 Traceback (most recent call last)",
      "\u001b[1;32m<ipython-input-2-ea36fecb9306>\u001b[0m in \u001b[0;36m<module>\u001b[1;34m()\u001b[0m\n\u001b[1;32m----> 1\u001b[1;33m \u001b[0mbienvenido\u001b[0m\u001b[1;33m(\u001b[0m\u001b[1;33m)\u001b[0m\u001b[1;33m\u001b[0m\u001b[0m\n\u001b[0m",
      "\u001b[1;31mNameError\u001b[0m: name 'bienvenido' is not defined"
     ]
    }
   ],
   "source": [
    "bienvenido()"
   ]
  },
  {
   "cell_type": "code",
   "execution_count": 3,
   "metadata": {},
   "outputs": [
    {
     "data": {
      "text/plain": [
       "<function __main__.hola.<locals>.bienvenido()>"
      ]
     },
     "execution_count": 3,
     "metadata": {},
     "output_type": "execute_result"
    }
   ],
   "source": [
    "hola()"
   ]
  },
  {
   "cell_type": "code",
   "execution_count": 2,
   "metadata": {},
   "outputs": [
    {
     "name": "stdout",
     "output_type": "stream",
     "text": [
      "{'bienvenido': <function hola.<locals>.bienvenido at 0x000001B5DEC062F0>, 'numero': 50}\n",
      "{'__name__': '__main__', '__doc__': 'Automatically created module for IPython interactive environment', '__package__': None, '__loader__': None, '__spec__': None, '__builtin__': <module 'builtins' (built-in)>, '__builtins__': <module 'builtins' (built-in)>, '_ih': ['', 'globals()', 'lista = [1,2,3]\\ndef hola():\\n    \\n    numero = 50\\n    \\n    def bienvenido():\\n        return \"Hola\"\\n    \\n    print(locals())\\n    print(globals())\\n    \\n    return bienvenido\\nhola()'], '_oh': {1: {...}}, '_dh': ['C:\\\\Users\\\\kokor\\\\CursoPython-Final\\\\CursoPython\\\\Fase 4 - Temas avanzados\\\\Tema 15 - Funcionalidades avanzadas'], 'In': ['', 'globals()', 'lista = [1,2,3]\\ndef hola():\\n    \\n    numero = 50\\n    \\n    def bienvenido():\\n        return \"Hola\"\\n    \\n    print(locals())\\n    print(globals())\\n    \\n    return bienvenido\\nhola()'], 'Out': {1: {...}}, 'get_ipython': <bound method InteractiveShell.get_ipython of <ipykernel.zmqshell.ZMQInteractiveShell object at 0x000001B5DEB327F0>>, 'exit': <IPython.core.autocall.ZMQExitAutocall object at 0x000001B5DEC38AC8>, 'quit': <IPython.core.autocall.ZMQExitAutocall object at 0x000001B5DEC38AC8>, '_': {...}, '__': '', '___': '', '_i': 'globals()', '_ii': '', '_iii': '', '_i1': 'globals()', '_1': {...}, '_i2': 'lista = [1,2,3]\\ndef hola():\\n    \\n    numero = 50\\n    \\n    def bienvenido():\\n        return \"Hola\"\\n    \\n    print(locals())\\n    print(globals())\\n    \\n    return bienvenido\\nhola()', 'lista': [1, 2, 3], 'hola': <function hola at 0x000001B5DEBC6840>}\n"
     ]
    },
    {
     "data": {
      "text/plain": [
       "<function __main__.hola.<locals>.bienvenido()>"
      ]
     },
     "execution_count": 2,
     "metadata": {},
     "output_type": "execute_result"
    }
   ],
   "source": [
    "lista = [1,2,3]\n",
    "def hola():\n",
    "    \n",
    "    numero = 50\n",
    "    \n",
    "    def bienvenido():\n",
    "        return \"Hola\"\n",
    "    \n",
    "    print(locals())\n",
    "    print(globals())\n",
    "    \n",
    "    return bienvenido\n",
    "hola()"
   ]
  },
  {
   "cell_type": "code",
   "execution_count": 4,
   "metadata": {},
   "outputs": [
    {
     "data": {
      "text/plain": [
       "dict_keys(['__name__', '__doc__', '__package__', '__loader__', '__spec__', '__builtin__', '__builtins__', '_ih', '_oh', '_dh', 'In', 'Out', 'get_ipython', 'exit', 'quit', '_', '__', '___', '_i', '_ii', '_iii', '_i1', '_1', '_i2', 'lista', 'hola', '_2', '_i3', '_3', '_i4'])"
      ]
     },
     "execution_count": 4,
     "metadata": {},
     "output_type": "execute_result"
    }
   ],
   "source": [
    "globals().keys()"
   ]
  },
  {
   "cell_type": "code",
   "execution_count": 5,
   "metadata": {},
   "outputs": [
    {
     "data": {
      "text/plain": [
       "[1, 2, 3]"
      ]
     },
     "execution_count": 5,
     "metadata": {},
     "output_type": "execute_result"
    }
   ],
   "source": [
    "globals()['lista']"
   ]
  },
  {
   "cell_type": "code",
   "execution_count": 6,
   "metadata": {},
   "outputs": [
    {
     "data": {
      "text/plain": [
       "'Hola'"
      ]
     },
     "execution_count": 6,
     "metadata": {},
     "output_type": "execute_result"
    }
   ],
   "source": [
    "# funciones como variables\n",
    "def hola():\n",
    "    def bienvenido():\n",
    "        return \"Hola\"\n",
    "    \n",
    "    return bienvenido\n",
    "\n",
    "hola()() #ejecuta el bienvenido con el doble parentesis"
   ]
  },
  {
   "cell_type": "code",
   "execution_count": 7,
   "metadata": {},
   "outputs": [
    {
     "data": {
      "text/plain": [
       "'Hola'"
      ]
     },
     "execution_count": 7,
     "metadata": {},
     "output_type": "execute_result"
    }
   ],
   "source": [
    "bienvenido = hola()\n",
    "bienvenido()"
   ]
  },
  {
   "cell_type": "code",
   "execution_count": 8,
   "metadata": {},
   "outputs": [],
   "source": [
    "del(hola)"
   ]
  },
  {
   "cell_type": "code",
   "execution_count": 9,
   "metadata": {},
   "outputs": [
    {
     "data": {
      "text/plain": [
       "'Hola'"
      ]
     },
     "execution_count": 9,
     "metadata": {},
     "output_type": "execute_result"
    }
   ],
   "source": [
    "bienvenido()"
   ]
  },
  {
   "cell_type": "code",
   "execution_count": 10,
   "metadata": {},
   "outputs": [
    {
     "name": "stdout",
     "output_type": "stream",
     "text": [
      "Hola!\n"
     ]
    }
   ],
   "source": [
    "def hola():\n",
    "    return \"Hola!\"\n",
    "\n",
    "def test(funcion):\n",
    "    print(funcion())\n",
    "    \n",
    "test(hola)"
   ]
  },
  {
   "cell_type": "code",
   "execution_count": 11,
   "metadata": {},
   "outputs": [],
   "source": [
    "# funcion decoradora: ejecutar una funcion con codigo a extender\n",
    "def hola():\n",
    "    print(\"Hola\")\n",
    "    \n",
    "def adios():\n",
    "    print(\"Adios\")"
   ]
  },
  {
   "cell_type": "code",
   "execution_count": 12,
   "metadata": {},
   "outputs": [],
   "source": [
    "def monitorizar(funcion):\n",
    "    \n",
    "    def decorar():\n",
    "        print(\"\\t Se esta a punto de ejecutar la funcion: \", funcion.__name__)\n",
    "        \n",
    "        funcion()\n",
    "        \n",
    "        print(\"\\t se a finalizado la ejecucion de la funcion:\",funcion.__name__)\n",
    "        \n",
    "    return decorar\n"
   ]
  },
  {
   "cell_type": "code",
   "execution_count": 14,
   "metadata": {},
   "outputs": [
    {
     "name": "stdout",
     "output_type": "stream",
     "text": [
      "\t Se esta a punto de ejecutar la funcion:  hola\n",
      "Hola\n",
      "\t se a finalizado la ejecuciond de la funcion: hola\n"
     ]
    }
   ],
   "source": [
    "monitorizar(hola)()"
   ]
  },
  {
   "cell_type": "code",
   "execution_count": 16,
   "metadata": {},
   "outputs": [
    {
     "name": "stdout",
     "output_type": "stream",
     "text": [
      "\t Se esta a punto de ejecutar la funcion:  adios\n",
      "Adios\n",
      "\t se a finalizado la ejecuciond de la funcion: adios\n"
     ]
    }
   ],
   "source": [
    "monitorizar(adios)()"
   ]
  },
  {
   "cell_type": "code",
   "execution_count": 18,
   "metadata": {},
   "outputs": [],
   "source": [
    "# hay sintaxis sencilla: con @ llamamos la funcion\n",
    "@monitorizar\n",
    "def hola():\n",
    "    print(\"Hola\")\n",
    "\n",
    "@monitorizar\n",
    "def adios():\n",
    "    print(\"Adios\")"
   ]
  },
  {
   "cell_type": "code",
   "execution_count": 19,
   "metadata": {},
   "outputs": [
    {
     "name": "stdout",
     "output_type": "stream",
     "text": [
      "\t Se esta a punto de ejecutar la funcion:  hola\n",
      "Hola\n",
      "\t se a finalizado la ejecuciond de la funcion: hola\n"
     ]
    }
   ],
   "source": [
    "hola()"
   ]
  },
  {
   "cell_type": "code",
   "execution_count": 20,
   "metadata": {},
   "outputs": [
    {
     "name": "stdout",
     "output_type": "stream",
     "text": [
      "\t Se esta a punto de ejecutar la funcion:  saludar\n",
      "Buenos dias\n",
      "\t se a finalizado la ejecuciond de la funcion: saludar\n"
     ]
    }
   ],
   "source": [
    "@monitorizar\n",
    "def saludar():\n",
    "    print(\"Buenos dias\")\n",
    "saludar()"
   ]
  },
  {
   "cell_type": "code",
   "execution_count": 21,
   "metadata": {},
   "outputs": [
    {
     "name": "stdout",
     "output_type": "stream",
     "text": [
      "\t Se esta a punto de ejecutar la funcion:  saludar\n"
     ]
    },
    {
     "ename": "TypeError",
     "evalue": "saludar() missing 1 required positional argument: 'texto'",
     "output_type": "error",
     "traceback": [
      "\u001b[1;31m---------------------------------------------------------------------------\u001b[0m",
      "\u001b[1;31mTypeError\u001b[0m                                 Traceback (most recent call last)",
      "\u001b[1;32m<ipython-input-21-751f1d79a3ae>\u001b[0m in \u001b[0;36m<module>\u001b[1;34m()\u001b[0m\n\u001b[0;32m      2\u001b[0m \u001b[1;32mdef\u001b[0m \u001b[0msaludar\u001b[0m\u001b[1;33m(\u001b[0m\u001b[0mtexto\u001b[0m\u001b[1;33m)\u001b[0m\u001b[1;33m:\u001b[0m\u001b[1;33m\u001b[0m\u001b[0m\n\u001b[0;32m      3\u001b[0m     \u001b[0mprint\u001b[0m\u001b[1;33m(\u001b[0m\u001b[0mtexto\u001b[0m\u001b[1;33m)\u001b[0m\u001b[1;33m\u001b[0m\u001b[0m\n\u001b[1;32m----> 4\u001b[1;33m \u001b[0msaludar\u001b[0m\u001b[1;33m(\u001b[0m\u001b[1;33m)\u001b[0m\u001b[1;33m\u001b[0m\u001b[0m\n\u001b[0m",
      "\u001b[1;32m<ipython-input-12-cde21b796eab>\u001b[0m in \u001b[0;36mdecorar\u001b[1;34m()\u001b[0m\n\u001b[0;32m      4\u001b[0m         \u001b[0mprint\u001b[0m\u001b[1;33m(\u001b[0m\u001b[1;34m\"\\t Se esta a punto de ejecutar la funcion: \"\u001b[0m\u001b[1;33m,\u001b[0m \u001b[0mfuncion\u001b[0m\u001b[1;33m.\u001b[0m\u001b[0m__name__\u001b[0m\u001b[1;33m)\u001b[0m\u001b[1;33m\u001b[0m\u001b[0m\n\u001b[0;32m      5\u001b[0m \u001b[1;33m\u001b[0m\u001b[0m\n\u001b[1;32m----> 6\u001b[1;33m         \u001b[0mfuncion\u001b[0m\u001b[1;33m(\u001b[0m\u001b[1;33m)\u001b[0m\u001b[1;33m\u001b[0m\u001b[0m\n\u001b[0m\u001b[0;32m      7\u001b[0m \u001b[1;33m\u001b[0m\u001b[0m\n\u001b[0;32m      8\u001b[0m         \u001b[0mprint\u001b[0m\u001b[1;33m(\u001b[0m\u001b[1;34m\"\\t se a finalizado la ejecuciond de la funcion:\"\u001b[0m\u001b[1;33m,\u001b[0m\u001b[0mfuncion\u001b[0m\u001b[1;33m.\u001b[0m\u001b[0m__name__\u001b[0m\u001b[1;33m)\u001b[0m\u001b[1;33m\u001b[0m\u001b[0m\n",
      "\u001b[1;31mTypeError\u001b[0m: saludar() missing 1 required positional argument: 'texto'"
     ]
    }
   ],
   "source": [
    "@monitorizar\n",
    "def saludar(texto):\n",
    "    print(texto)\n",
    "saludar()"
   ]
  },
  {
   "cell_type": "code",
   "execution_count": 23,
   "metadata": {},
   "outputs": [],
   "source": [
    "def monitorizar_args(funcion):\n",
    "    \n",
    "    def decorar(*args, **kwargs):\n",
    "        print(\"\\t Se esta a punto de ejecutar la funcion: \", funcion.__name__)\n",
    "        \n",
    "        funcion(*args, **kwargs)\n",
    "        \n",
    "        print(\"\\t se a finalizado la ejecucion de la funcion:\",funcion.__name__)\n",
    "        \n",
    "    return decorar\n"
   ]
  },
  {
   "cell_type": "code",
   "execution_count": 24,
   "metadata": {},
   "outputs": [],
   "source": [
    "@monitorizar_args\n",
    "def hola(nombre):\n",
    "    print(\"Hola {}\".format(nombre))\n",
    "\n",
    "@monitorizar_args\n",
    "def adios(nombre):\n",
    "    print(\"Adios {}\".format(nombre))"
   ]
  },
  {
   "cell_type": "code",
   "execution_count": 25,
   "metadata": {},
   "outputs": [
    {
     "name": "stdout",
     "output_type": "stream",
     "text": [
      "\t Se esta a punto de ejecutar la funcion:  hola\n",
      "Hola p\n",
      "\t se a finalizado la ejecucion de la funcion: hola\n"
     ]
    }
   ],
   "source": [
    "hola('p')"
   ]
  },
  {
   "cell_type": "code",
   "execution_count": 26,
   "metadata": {},
   "outputs": [
    {
     "name": "stdout",
     "output_type": "stream",
     "text": [
      "\t Se esta a punto de ejecutar la funcion:  saludar\n",
      "Hola!!!\n",
      "\t se a finalizado la ejecucion de la funcion: saludar\n"
     ]
    }
   ],
   "source": [
    "@monitorizar_args\n",
    "def saludar(texto):\n",
    "    print(texto)\n",
    "saludar('Hola!!!')"
   ]
  },
  {
   "cell_type": "code",
   "execution_count": null,
   "metadata": {},
   "outputs": [],
   "source": []
  }
 ],
 "metadata": {
  "anaconda-cloud": {},
  "kernelspec": {
   "display_name": "Python 3",
   "language": "python",
   "name": "python3"
  },
  "language_info": {
   "codemirror_mode": {
    "name": "ipython",
    "version": 3
   },
   "file_extension": ".py",
   "mimetype": "text/x-python",
   "name": "python",
   "nbconvert_exporter": "python",
   "pygments_lexer": "ipython3",
   "version": "3.6.5"
  }
 },
 "nbformat": 4,
 "nbformat_minor": 1
}
