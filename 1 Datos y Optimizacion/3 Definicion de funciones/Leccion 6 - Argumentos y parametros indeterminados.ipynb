{
 "cells": [
  {
   "cell_type": "code",
   "execution_count": 2,
   "metadata": {},
   "outputs": [
    {
     "name": "stdout",
     "output_type": "stream",
     "text": [
      "5\n",
      "hola\n",
      "[1, 2, 3, 4, 5]\n"
     ]
    }
   ],
   "source": [
    "# parametros indeterminados, con args llegan todos los parametros\n",
    "def indeterminados_posicion(*args):\n",
    "    for arg in args:\n",
    "        print(arg)\n",
    "    #print(args)\n",
    "    \n",
    "indeterminados_posicion(5, \"hola\", [1,2,3,4,5])  "
   ]
  },
  {
   "cell_type": "code",
   "execution_count": 3,
   "metadata": {},
   "outputs": [
    {
     "name": "stdout",
     "output_type": "stream",
     "text": [
      "{'n': 5, 'c': 'Hola', 'l': [1, 2, 3, 4, 5]}\n"
     ]
    }
   ],
   "source": [
    "# para diccionario, se usa el dobre asterisco con kwargs\n",
    "# (la n valdra 5, c sera hola..... segun el ejemplo abajo)\n",
    "def indeterminados_nombre(**kwargs):\n",
    "    print(kwargs)\n",
    "    \n",
    "indeterminados_nombre(n=5,c=\"Hola\",l=[1,2,3,4,5])"
   ]
  },
  {
   "cell_type": "code",
   "execution_count": 4,
   "metadata": {},
   "outputs": [
    {
     "name": "stdout",
     "output_type": "stream",
     "text": [
      "n\n",
      "c\n",
      "l\n"
     ]
    }
   ],
   "source": [
    "# para recorrer el diccionario kwargs\n",
    "def indeterminados_nombre(**kwargs):\n",
    "    for kwarg in kwargs:\n",
    "        print(kwarg)\n",
    "    \n",
    "indeterminados_nombre(n=5,c=\"Hola\",l=[1,2,3,4,5])"
   ]
  },
  {
   "cell_type": "code",
   "execution_count": 5,
   "metadata": {},
   "outputs": [
    {
     "name": "stdout",
     "output_type": "stream",
     "text": [
      "n   5\n",
      "c   Hola\n",
      "l   [1, 2, 3, 4, 5]\n"
     ]
    }
   ],
   "source": [
    "# para recorrer el diccionario kwargs\n",
    "def indeterminados_nombre(**kwargs):\n",
    "    for kwarg in kwargs:\n",
    "        print(kwarg, \" \",kwargs[kwarg])\n",
    "    \n",
    "indeterminados_nombre(n=5,c=\"Hola\",l=[1,2,3,4,5])"
   ]
  },
  {
   "cell_type": "code",
   "execution_count": 6,
   "metadata": {},
   "outputs": [
    {
     "name": "stdout",
     "output_type": "stream",
     "text": [
      "Sumatoria indeterminado es 60.56\n",
      "nombre   Hector\n",
      "edad   27\n"
     ]
    }
   ],
   "source": [
    "# podemos recibir indeterminados (args) y tambn los que sean diccionarios (Kwargs)\n",
    "# en este ejemplo los args seran valores para sumar.\n",
    "def super_funcion(*args,**kwargs):\n",
    "    t = 0\n",
    "    for arg in args:\n",
    "        t += arg\n",
    "    print(\"Sumatoria indeterminado es\", t)\n",
    "    for kwarg in kwargs:\n",
    "        print(kwarg,\" \", kwargs[kwarg])\n",
    "super_funcion(10,50,-1,1.56,nombre=\"Hector\", edad = 27)"
   ]
  }
 ],
 "metadata": {
  "kernelspec": {
   "display_name": "Python 3",
   "language": "python",
   "name": "python3"
  },
  "language_info": {
   "codemirror_mode": {
    "name": "ipython",
    "version": 3
   },
   "file_extension": ".py",
   "mimetype": "text/x-python",
   "name": "python",
   "nbconvert_exporter": "python",
   "pygments_lexer": "ipython3",
   "version": "3.6.4"
  }
 },
 "nbformat": 4,
 "nbformat_minor": 1
}
